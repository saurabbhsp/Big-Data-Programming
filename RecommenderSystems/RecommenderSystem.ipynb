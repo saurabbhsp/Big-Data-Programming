{
 "cells": [
  {
   "cell_type": "markdown",
   "metadata": {},
   "source": [
    "# Recommender system\n",
    "## Dataset - MovieLens 1M"
   ]
  },
  {
   "cell_type": "code",
   "execution_count": 1,
   "metadata": {},
   "outputs": [
    {
     "data": {
      "text/html": [
       "\n",
       "        <div>\n",
       "            <p><b>SparkContext</b></p>\n",
       "\n",
       "            <p><a href=\"http://192.168.0.104:4040\">Spark UI</a></p>\n",
       "\n",
       "            <dl>\n",
       "              <dt>Version</dt>\n",
       "                <dd><code>v2.3.1</code></dd>\n",
       "              <dt>Master</dt>\n",
       "                <dd><code>local[*]</code></dd>\n",
       "              <dt>AppName</dt>\n",
       "                <dd><code>PySparkShell</code></dd>\n",
       "            </dl>\n",
       "        </div>\n",
       "        "
      ],
      "text/plain": [
       "<SparkContext master=local[*] appName=PySparkShell>"
      ]
     },
     "execution_count": 1,
     "metadata": {},
     "output_type": "execute_result"
    }
   ],
   "source": [
    "sc"
   ]
  },
  {
   "cell_type": "markdown",
   "metadata": {},
   "source": [
    "## Specify the checkpoint directory"
   ]
  },
  {
   "cell_type": "code",
   "execution_count": 2,
   "metadata": {},
   "outputs": [],
   "source": [
    "sc.setCheckpointDir(\"/home/saurabh/sparkcheckpointDir/\")"
   ]
  },
  {
   "cell_type": "markdown",
   "metadata": {},
   "source": [
    "## Required imports"
   ]
  },
  {
   "cell_type": "code",
   "execution_count": 3,
   "metadata": {},
   "outputs": [],
   "source": [
    "from pyspark.sql import SparkSession\n",
    "import math\n",
    "import numpy as np\n",
    "from pyspark.sql import SparkSession\n",
    "from pyspark.mllib.recommendation import ALS\n",
    "from pyspark.ml.tuning import CrossValidator, ParamGridBuilder\n",
    "from pyspark.ml.evaluation import RegressionEvaluator\n",
    "from pyspark.ml import Pipeline\n",
    "from pyspark.sql.functions import *\n",
    "import matplotlib.pyplot as plt"
   ]
  },
  {
   "cell_type": "code",
   "execution_count": 4,
   "metadata": {},
   "outputs": [],
   "source": [
    "session = SparkSession.builder.appName(\"RecommenderSystems\").getOrCreate()"
   ]
  },
  {
   "cell_type": "markdown",
   "metadata": {},
   "source": [
    "# Recommender System - 1 \n",
    "## Implemented from scratch"
   ]
  },
  {
   "cell_type": "markdown",
   "metadata": {},
   "source": [
    "## Read data"
   ]
  },
  {
   "cell_type": "code",
   "execution_count": 5,
   "metadata": {},
   "outputs": [],
   "source": [
    "ratings = sc.textFile(\"/home/saurabh/ml-1m/ratings.dat\").map(\n",
    "                        lambda line: line.split(\"::\")).map(lambda x: (int(x[0]), (int(x[1]), float(x[2]) )))"
   ]
  },
  {
   "cell_type": "code",
   "execution_count": 6,
   "metadata": {},
   "outputs": [
    {
     "data": {
      "text/plain": [
       "[(1, (1193, 5.0)), (1, (661, 3.0)), (1, (914, 3.0))]"
      ]
     },
     "execution_count": 6,
     "metadata": {},
     "output_type": "execute_result"
    }
   ],
   "source": [
    "ratings.take(3)"
   ]
  },
  {
   "cell_type": "markdown",
   "metadata": {},
   "source": [
    "## Split into train and test set"
   ]
  },
  {
   "cell_type": "code",
   "execution_count": 7,
   "metadata": {},
   "outputs": [],
   "source": [
    "train, test = ratings.randomSplit([7, 3], seed=0)"
   ]
  },
  {
   "cell_type": "markdown",
   "metadata": {},
   "source": [
    "## Partition data"
   ]
  },
  {
   "cell_type": "code",
   "execution_count": 8,
   "metadata": {
    "scrolled": false
   },
   "outputs": [],
   "source": [
    "ratings_partitions = train.partitionBy(2).persist()"
   ]
  },
  {
   "cell_type": "code",
   "execution_count": 9,
   "metadata": {},
   "outputs": [
    {
     "data": {
      "text/plain": [
       "[(2, (1357, 5.0)), (2, (3068, 4.0)), (2, (1537, 4.0))]"
      ]
     },
     "execution_count": 9,
     "metadata": {},
     "output_type": "execute_result"
    }
   ],
   "source": [
    "ratings_partitions.take(3)"
   ]
  },
  {
   "cell_type": "markdown",
   "metadata": {},
   "source": [
    "## Create required variables"
   ]
  },
  {
   "cell_type": "code",
   "execution_count": 10,
   "metadata": {},
   "outputs": [],
   "source": [
    "n_users = 6040\n",
    "n_items = 3952\n",
    "latent_variables = 100\n",
    "\n",
    "global_bias = np.array([2.5])\n",
    "user_latent = np.random.uniform(size = (n_users + 1, latent_variables))\n",
    "user_bias = np.random.uniform(size=(n_users + 1))\n",
    "\n",
    "item_latent = np.random.uniform(size = (n_items + 1, latent_variables))\n",
    "item_bias = np.random.uniform(size = (n_items + 1))"
   ]
  },
  {
   "cell_type": "markdown",
   "metadata": {},
   "source": [
    "## Core algorithm\n",
    "The following code is a varient of matrix factorization for recommender systems. In addition to user and item latent variables this algorithm also uses user and item bias and global bias.\n",
    "\n",
    "### Solving cold start problem\n",
    "\n",
    "    -- The user bias allows to rate for new item that was not seen in the training data\n",
    "    -- The item bias allows to rate for new user that was not seen in the training data\n",
    "    -- Global bias allows to provide rating for both new user and new item\n",
    "### Learning parameters\n",
    "\n",
    "    -- SGD is used to learn user_bias, user_latent features, item_bias and item_latent features.\n",
    "    -- Global bias is not learned. It is usually calculated as average of all the ratings.\n",
    "### Regualrization\n",
    "This model also performs regularization subject to the regularization parameter.\n",
    "\n",
    "### Prediction\n",
    "The prediction is globalBias + userBias + itemBias + matrixProduct"
   ]
  },
  {
   "cell_type": "code",
   "execution_count": 11,
   "metadata": {},
   "outputs": [],
   "source": [
    "def localGradients(data_iterator, user_latent = user_latent, user_bias = user_bias,\n",
    "                   item_latent = item_latent, item_bias = item_bias,\n",
    "                   global_bias = global_bias, learning_rate = 1e-2, regularization = 1e-1):\n",
    "    \n",
    "    \"\"\"Put default values to zeros\"\"\"\n",
    "    _user_latent = np.zeros_like(user_latent)\n",
    "    _item_latent = np.zeros_like(item_latent)\n",
    "    _user_bias = np.zeros_like(user_bias)\n",
    "    _item_bias = np.zeros_like(item_bias)\n",
    "    \n",
    "    for user, item_rating in data_iterator:\n",
    "        item = item_rating[0]\n",
    "        actual = item_rating[1]\n",
    "        \n",
    "        \"\"\"The predicion is global_bias + user_bias + item_bias + latentFactorsDotProduct\"\"\"\n",
    "        \n",
    "        prediction = global_bias + user_bias[user] + item_bias[item] + np.dot(user_latent[user],\n",
    "                                                                                   item_latent[item].T)\n",
    "        user_latent[user] = user_latent[user] + learning_rate * \\\n",
    "                            (((actual - prediction) * item_latent[item]) \\\n",
    "                            - regularization * (user_latent[user]))\n",
    "        \n",
    "        item_latent[item] = item_latent[item] + learning_rate * \\\n",
    "                            (((actual - prediction) * user_latent[user]) \\\n",
    "                            - regularization * (item_latent[item]))\n",
    "        \n",
    "        user_bias[user] = user_bias[user] + learning_rate * \\\n",
    "                          ((actual - prediction) \\\n",
    "                          - regularization * user_bias[user])\n",
    "        \n",
    "        item_bias[item] = item_bias[item] + learning_rate * \\\n",
    "                          ((actual - prediction) \\\n",
    "                          - regularization * item_bias[item])\n",
    "        \n",
    "        \"\"\"Keep weights of all non learned latent features as 0\"\"\"\n",
    "        _item_bias[item] = np.array(item_bias[item])\n",
    "        _item_latent[item] = np.array(item_latent[item])\n",
    "        _user_bias[user] = np.array(user_bias[user])\n",
    "        _user_latent[user] = np.array(user_latent[user])\n",
    "        \n",
    "    return (_user_latent, _item_latent, _user_bias, _item_bias)"
   ]
  },
  {
   "cell_type": "markdown",
   "metadata": {},
   "source": [
    "## RMSE Calculation\n",
    "Following code will calculate RMSE for the provided data"
   ]
  },
  {
   "cell_type": "code",
   "execution_count": 12,
   "metadata": {},
   "outputs": [],
   "source": [
    "def RMSE(data_iterator, user_latent = user_latent, user_bias = user_bias,\n",
    "        item_latent = item_latent, item_bias = item_bias,\n",
    "        global_bias = global_bias):\n",
    "    error = []\n",
    "    \n",
    "    for user, item_rating in data_iterator:\n",
    "        item = item_rating[0]\n",
    "        _actual = item_rating[1]\n",
    "        \n",
    "        \"\"\"The predicion is global_bias + user_bias + item_bias + latentFactorsDotProduct\"\"\"\n",
    "        \n",
    "        _prediction = global_bias + user_bias[user] + item_bias[item] + np.dot(user_latent[user],\n",
    "                                                                                   item_latent[item].T)\n",
    "        error.append(_prediction - _actual)\n",
    "    return [math.sqrt(np.mean(np.array(error) ** 2))]"
   ]
  },
  {
   "cell_type": "markdown",
   "metadata": {},
   "source": [
    "## Distributed matrix factorization\n",
    "\n",
    "    -- The above code will work in distributed settings. (Across the partitions)\n",
    "    -- The average should be calculated for only non zero terms.\n",
    "Following method allows to calculate average"
   ]
  },
  {
   "cell_type": "code",
   "execution_count": 13,
   "metadata": {},
   "outputs": [],
   "source": [
    "def non_zero_average(x):\n",
    "    sum_vector = np.zeros_like(x[0])\n",
    "    cummulative = np.zeros(len(x[0]))\n",
    "    for item in x:\n",
    "        for index, data in enumerate(item):\n",
    "            if np.sum(data) > 0:\n",
    "                cummulative[index] = cummulative[index] + 1\n",
    "                sum_vector[index] = sum_vector[index] + data\n",
    "    for index, data in enumerate(sum_vector):\n",
    "        if cummulative[index] > 0:\n",
    "            sum_vector[index] = data/cummulative[index]\n",
    "    return sum_vector"
   ]
  },
  {
   "cell_type": "code",
   "execution_count": 14,
   "metadata": {},
   "outputs": [],
   "source": [
    "def average(data, index, n_partitions):\n",
    "    array = []\n",
    "    while index < n_partitions * 4:\n",
    "        array.append(data[index])\n",
    "        index = index + 4\n",
    "    return non_zero_average(array)"
   ]
  },
  {
   "cell_type": "markdown",
   "metadata": {},
   "source": [
    "## Reduce method is not used\n",
    "The following code does not use a reduce method. This is because the output of the map partitions is an array and not a tuple. "
   ]
  },
  {
   "cell_type": "code",
   "execution_count": 15,
   "metadata": {
    "scrolled": false
   },
   "outputs": [
    {
     "name": "stdout",
     "output_type": "stream",
     "text": [
      "Train RMSE-25.058494210066556\n",
      "Test RMSE-25.061564781800932\n",
      "\n",
      "\n",
      "\n",
      "Train RMSE-1.3912778700616217\n",
      "Test RMSE-1.4836147226254353\n",
      "\n",
      "\n",
      "\n",
      "Train RMSE-0.9718266521290175\n",
      "Test RMSE-1.1243123750950648\n",
      "\n",
      "\n",
      "\n",
      "Train RMSE-0.9052402275926952\n",
      "Test RMSE-1.0567820449881378\n",
      "\n",
      "\n",
      "\n",
      "Train RMSE-0.8827609682704174\n",
      "Test RMSE-1.0248377990720927\n",
      "\n",
      "\n",
      "\n",
      "Train RMSE-0.8733300245326387\n",
      "Test RMSE-1.0052995680618988\n",
      "\n",
      "\n",
      "\n",
      "Train RMSE-0.8693399681715661\n",
      "Test RMSE-0.9918792889263015\n",
      "\n",
      "\n",
      "\n",
      "Train RMSE-0.867650549118595\n",
      "Test RMSE-0.981681846194268\n",
      "\n",
      "\n",
      "\n",
      "Train RMSE-0.8673571371066514\n",
      "Test RMSE-0.9737957586843251\n",
      "\n",
      "\n",
      "\n",
      "Train RMSE-0.8671835985965081\n",
      "Test RMSE-0.9673039346124579\n",
      "\n",
      "\n",
      "\n"
     ]
    }
   ],
   "source": [
    "trainRMSEList = []\n",
    "testRMSEList = []\n",
    "partition_count =  ratings_partitions.getNumPartitions()\n",
    "for i in range(0, 10):\n",
    "    \n",
    "    \n",
    "    \"\"\"Check performance\"\"\"\n",
    "    rmse = ratings_partitions.mapPartitions(lambda x:RMSE(x, user_latent=user_latent,\n",
    "                                                          user_bias=user_bias,\n",
    "                                                          item_latent=item_latent,\n",
    "                                                          item_bias=item_bias,\n",
    "                                                         global_bias=global_bias))\n",
    "    rmse = np.average(rmse.coalesce(1).collect())\n",
    "    print(\"Train RMSE-\"+str(rmse))\n",
    "    trainRMSEList.append(rmse)\n",
    "    \n",
    "    rmse = test.mapPartitions(lambda x:RMSE(x, user_latent=user_latent,\n",
    "                                            user_bias=user_bias,\n",
    "                                            item_latent=item_latent, item_bias=item_bias,\n",
    "                                            global_bias=global_bias))\n",
    "    rmse = np.average(rmse.coalesce(1).collect())\n",
    "    print(\"Test RMSE-\"+str(rmse))\n",
    "    testRMSEList.append(rmse)\n",
    "    \n",
    "    \"\"\"Train model\"\"\"\n",
    "    tmp = ratings_partitions.mapPartitions(lambda x:localGradients(x, user_latent=user_latent,\n",
    "                                                                     user_bias=user_bias,\n",
    "                                                                     item_latent=item_latent,\n",
    "                                                                     item_bias=item_bias,\n",
    "                                                                     global_bias=global_bias))\n",
    "    tmp = tmp.coalesce(1).collect()\n",
    "    user_latent = average(tmp, 0, partition_count)\n",
    "    item_latent = average(tmp, 1, partition_count)\n",
    "    user_bias = average(tmp, 2, partition_count)\n",
    "    item_bias = average(tmp, 3, partition_count)\n",
    "    \n",
    "    print(\"\\n\\n\")"
   ]
  },
  {
   "cell_type": "code",
   "execution_count": 16,
   "metadata": {},
   "outputs": [
    {
     "name": "stdout",
     "output_type": "stream",
     "text": [
      "Train RMSE-0.8671977557957844\n",
      "Test RMSE-0.9619186176332075\n"
     ]
    }
   ],
   "source": [
    "rmse = ratings_partitions.mapPartitions(lambda x:RMSE(x, user_latent=user_latent,\n",
    "                                                      user_bias=user_bias,\n",
    "                                                      item_latent=item_latent, item_bias=item_bias,\n",
    "                                                       global_bias=global_bias))\n",
    "rmse = np.average(rmse.coalesce(1).collect())\n",
    "print(\"Train RMSE-\"+str(rmse))\n",
    "trainRMSEList.append(rmse)\n",
    "    \n",
    "rmse = test.mapPartitions(lambda x:RMSE(x, user_latent=user_latent,\n",
    "                                        user_bias=user_bias,\n",
    "                                        item_latent=item_latent, item_bias=item_bias,\n",
    "                                        global_bias=global_bias))\n",
    "\n",
    "rmse = np.average(rmse.coalesce(1).collect())\n",
    "print(\"Test RMSE-\"+str(rmse))\n",
    "testRMSEList.append(rmse)\n"
   ]
  },
  {
   "cell_type": "code",
   "execution_count": 17,
   "metadata": {},
   "outputs": [
    {
     "data": {
      "image/png": "[encoded data removed]",
      "text/plain": [
       "<Figure size 432x288 with 1 Axes>"
      ]
     },
     "metadata": {},
     "output_type": "display_data"
    }
   ],
   "source": [
    "plt.plot(trainRMSEList, label = \"Train RMSE\")\n",
    "plt.plot(testRMSEList, label = \"Test RMSE\")\n",
    "plt.legend()\n",
    "plt.show()"
   ]
  },
  {
   "cell_type": "markdown",
   "metadata": {},
   "source": [
    "The best performance on train set is 0.86 and test set is 0.96. We can say that the algorithm slightly overfits to the training dataset."
   ]
  },
  {
   "cell_type": "markdown",
   "metadata": {},
   "source": [
    "# Recommender System - 2 \n",
    "## Implemented using MLLib\n",
    "### Read data"
   ]
  },
  {
   "cell_type": "code",
   "execution_count": 18,
   "metadata": {},
   "outputs": [
    {
     "data": {
      "text/plain": [
       "[(1, 1193, 5.0), (1, 661, 3.0), (1, 914, 3.0)]"
      ]
     },
     "execution_count": 18,
     "metadata": {},
     "output_type": "execute_result"
    }
   ],
   "source": [
    "ratings = sc.textFile(\"/home/saurabh/ml-1m/ratings.dat\").map(\n",
    "                        lambda token: token.split(\"::\")).map(lambda token: (\n",
    "                                                            int(token[0]), int(token[1]), float(token[2])))\n",
    "movies = sc.textFile(\"/home/saurabh/ml-1m/movies.dat\").map(\n",
    "                        lambda token: token.split(\"::\")).map(lambda token: (token[0], token[1]))\n",
    "\n",
    "ratings.take(3)"
   ]
  },
  {
   "cell_type": "markdown",
   "metadata": {},
   "source": [
    "### Split in train and test set"
   ]
  },
  {
   "cell_type": "code",
   "execution_count": 19,
   "metadata": {},
   "outputs": [],
   "source": [
    "train, test = ratings.randomSplit([7, 3], seed=0)"
   ]
  },
  {
   "cell_type": "markdown",
   "metadata": {},
   "source": [
    "### Transform RDD"
   ]
  },
  {
   "cell_type": "code",
   "execution_count": 20,
   "metadata": {},
   "outputs": [],
   "source": [
    "def transformRDD(rdd):\n",
    "    return rdd.map(lambda r: ((r[0], r[1]), r[2]))"
   ]
  },
  {
   "cell_type": "markdown",
   "metadata": {},
   "source": [
    "### Calculate RMSE"
   ]
  },
  {
   "cell_type": "code",
   "execution_count": 21,
   "metadata": {},
   "outputs": [],
   "source": [
    "def RMSE_MLLib(actual, predictions):\n",
    "    joined_rdd = transformRDD(actual).join(predictions)\n",
    "    error = math.sqrt(joined_rdd.map(lambda r: (r[1][0] - r[1][1])**2).mean())\n",
    "    return error"
   ]
  },
  {
   "cell_type": "markdown",
   "metadata": {},
   "source": [
    "### Grid search for hyper parameter search"
   ]
  },
  {
   "cell_type": "raw",
   "metadata": {},
   "source": [
    "\"\"\"Following code is using CrossValidator. But performance is not good\"\"\"\n",
    "\n",
    "\n",
    "als = ALS(seed=0, implicitPrefs=True)\n",
    "pipeline = Pipeline(stages=[als])\n",
    "# paramGrid = ParamGridBuilder().addGrid(als.rank, [5, 10, 15, 20]).addGrid(als.alpha, [0.1, 0.2, 0.3]).build()\n",
    "paramGrid = ParamGridBuilder().addGrid(als.rank, [5]).addGrid(als.regParam, [0.1, 0.2, 0.3]).build()\n",
    "\n",
    "evaluator = RegressionEvaluator(metricName=\"rmse\", labelCol=\"rating\")\n",
    "crossval = CrossValidator(estimator=pipeline,\n",
    "                          estimatorParamMaps=paramGrid,\n",
    "                          evaluator=evaluator,\n",
    "                          numFolds=3)\n",
    "model = crossval.fit(train)\n",
    "\n",
    "# evaluator = RegressionEvaluator(metricName=\"rmse\", labelCol=\"rating\")\n",
    "evaluator.evaluate(model.transform(train))"
   ]
  },
  {
   "cell_type": "code",
   "execution_count": 22,
   "metadata": {},
   "outputs": [
    {
     "name": "stdout",
     "output_type": "stream",
     "text": [
      "Rank-5 error 0.8790564334285227\n",
      "Rank-25 error 0.8753892226100661\n",
      "Rank-35 error 0.8751212570490433\n",
      "Rank-45 error 0.8756921670140858\n",
      "Rank-100 error 0.8755746255382981\n",
      "Error on test set is 0.8625036830611713\n"
     ]
    }
   ],
   "source": [
    "\"\"\"here rank is hyper parameter\"\"\"\n",
    "rankList = [5, 25, 35, 45, 100]\n",
    "leastError = None\n",
    "bestRank = None\n",
    "\n",
    "\n",
    "_train, _validation = train.randomSplit([7, 3], seed=0)\n",
    "for rank in rankList:\n",
    "    \"\"\"lambda_ is used for regularization\"\"\"\n",
    "    model = ALS.train(_train, rank, iterations=20, lambda_=0.1)\n",
    "    _validation_transformed = _validation.map(lambda p: (p[0], p[1]))\n",
    "    prediction = transformRDD(model.predictAll(_validation_transformed))\n",
    "    error = RMSE_MLLib(_validation, prediction)\n",
    "    print(\"Rank-\"+str(rank)+\" error \"+str(error))\n",
    "    if leastError is None or leastError > error:\n",
    "        leastError = error\n",
    "        bestRank = rank\n",
    "\n",
    "model = ALS.train(train, bestRank, iterations=20, lambda_=0.1)\n",
    "\n",
    "_test = test.map(lambda p: (p[0], p[1]))\n",
    "prediction = transformRDD(model.predictAll(_test))\n",
    "error = RMSE_MLLib(test, prediction)\n",
    "print(\"Error on test set is \"+str(error))"
   ]
  },
  {
   "cell_type": "markdown",
   "metadata": {},
   "source": [
    "## Summary\n",
    "\n",
    "    -- Comparing the two implementations, spark's default implementation is much more optimized. \n",
    "    -- It also generates better results. Test set accuracy of 0.96 vs 0.86\n",
    "    -- When compared to existing approaches the accuracy is 0.857 for biased matrix factorization method which is very close to the baseline"
   ]
  },
  {
   "cell_type": "code",
   "execution_count": null,
   "metadata": {},
   "outputs": [],
   "source": []
  }
 ],
 "metadata": {
  "kernelspec": {
   "display_name": "Python 3",
   "language": "python",
   "name": "python3"
  },
  "language_info": {
   "codemirror_mode": {
    "name": "ipython",
    "version": 3
   },
   "file_extension": ".py",
   "mimetype": "text/x-python",
   "name": "python",
   "nbconvert_exporter": "python",
   "pygments_lexer": "ipython3",
   "version": "3.5.2"
  }
 },
 "nbformat": 4,
 "nbformat_minor": 2
}
